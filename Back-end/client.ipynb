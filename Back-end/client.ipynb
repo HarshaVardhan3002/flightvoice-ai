{
 "cells": [
  {
   "cell_type": "code",
   "execution_count": null,
   "metadata": {},
   "outputs": [],
   "source": [
    "import asyncio\n",
    "import websockets\n",
    "import wave\n",
    "import time\n",
    "import nest_asyncio  # Fix Jupyter event loop issue\n",
    "\n",
    "nest_asyncio.apply()  # Allow nested event loops\n",
    "\n",
    "SERVER_URI = \"ws://localhost:8000\"\n",
    "AUDIO_FILE_PATH = \"C:/Users/Von3002/Desktop/Final_year_project/videoplayback.wav\"\n",
    "\n",
    "CHUNK = 1024  # Same as before\n",
    "KEEP_ALIVE_INTERVAL = 10  # Send a keep-alive message every 10 seconds\n",
    "\n",
    "async def send_audio():\n",
    "    \"\"\"Streams an uploaded audio file in an infinite loop without connection drops.\"\"\"\n",
    "    \n",
    "    while True:\n",
    "        try:\n",
    "            async with websockets.connect(SERVER_URI, ping_interval=KEEP_ALIVE_INTERVAL) as websocket:\n",
    "                print(\"🔊 Streaming audio file...\")\n",
    "\n",
    "                # Open the audio file\n",
    "                with wave.open(AUDIO_FILE_PATH, 'rb') as audio:\n",
    "                    last_keep_alive = time.time()\n",
    "\n",
    "                    while True:  # Infinite loop for seamless playback\n",
    "                        data = audio.readframes(CHUNK)\n",
    "                        \n",
    "                        if not data:  \n",
    "                            audio.rewind()  # Restart from beginning before buffer exhausts\n",
    "                            data = audio.readframes(CHUNK)\n",
    "\n",
    "                        await websocket.send(data)  # Send audio data to server\n",
    "                        \n",
    "                        # Keep WebSocket alive\n",
    "                        if time.time() - last_keep_alive > KEEP_ALIVE_INTERVAL:\n",
    "                            await websocket.send(b\"KEEP_ALIVE\")  # Send keep-alive packet\n",
    "                            last_keep_alive = time.time()\n",
    "\n",
    "                        await asyncio.sleep(0.01)  # Small buffer delay to avoid bottlenecks\n",
    "\n",
    "        except (websockets.exceptions.ConnectionClosedError, websockets.exceptions.ConnectionClosedOK) as e:\n",
    "            print(f\"🔄 Connection lost. Reconnecting in 3 seconds... ({e})\")\n",
    "            time.sleep(3)  # Prevent immediate reconnect spam\n",
    "\n",
    "# Start streaming the file\n",
    "asyncio.create_task(send_audio())  # Runs in the background"
   ]
  }
 ],
 "metadata": {
  "kernelspec": {
   "display_name": "venv",
   "language": "python",
   "name": "python3"
  },
  "language_info": {
   "codemirror_mode": {
    "name": "ipython",
    "version": 3
   },
   "file_extension": ".py",
   "mimetype": "text/x-python",
   "name": "python",
   "nbconvert_exporter": "python",
   "pygments_lexer": "ipython3",
   "version": "3.12.9"
  }
 },
 "nbformat": 4,
 "nbformat_minor": 2
}
