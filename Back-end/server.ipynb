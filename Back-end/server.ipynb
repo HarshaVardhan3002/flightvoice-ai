{
 "cells": [
  {
   "cell_type": "code",
   "execution_count": null,
   "metadata": {},
   "outputs": [],
   "source": [
    "import asyncio\n",
    "import websockets\n",
    "import nest_asyncio\n",
    "import pyaudio\n",
    "\n",
    "# Fix for Jupyter Notebook\n",
    "nest_asyncio.apply()\n",
    "\n",
    "# Server settings\n",
    "HOST = \"0.0.0.0\"\n",
    "PORT = 8000\n",
    "\n",
    "# Audio settings\n",
    "FORMAT = pyaudio.paInt16\n",
    "CHANNELS = 1\n",
    "RATE = 44100  # Ensure this matches the client settings\n",
    "CHUNK = 1024\n",
    "\n",
    "# Initialize PyAudio\n",
    "audio = pyaudio.PyAudio()\n",
    "stream = audio.open(format=FORMAT, channels=CHANNELS, rate=RATE, output=True, frames_per_buffer=CHUNK)\n",
    "\n",
    "async def stream_audio(websocket, path=None):  \n",
    "    \"\"\"Receives audio stream from the client and plays it in real-time.\"\"\"\n",
    "    print(\"🎤 Connection established. Receiving and playing audio...\")\n",
    "\n",
    "    try:\n",
    "        async for message in websocket:\n",
    "            if message == b\"KEEP_ALIVE\":  # Ignore keep-alive messages\n",
    "                continue\n",
    "            \n",
    "            print(f\"📡 Received {len(message)} bytes of audio data\")\n",
    "            stream.write(message)  # Play received audio in real-time\n",
    "            \n",
    "    except websockets.exceptions.ConnectionClosedError:\n",
    "        print(\"❌ Client disconnected.\")\n",
    "    except Exception as e:\n",
    "        print(f\"🔥 Server Error: {e}\")\n",
    "\n",
    "async def start_server():\n",
    "    \"\"\"Starts the WebSocket server and keeps it running.\"\"\"\n",
    "    server = await websockets.serve(stream_audio, HOST, PORT)\n",
    "    print(f\"🎤 WebSocket Server running at ws://{HOST}:{PORT}\")\n",
    "    await server.wait_closed()  \n",
    "\n",
    "# ✅ Properly start the server in Jupyter\n",
    "loop = asyncio.get_event_loop()\n",
    "if loop.is_running():\n",
    "    print(\"🔄 Event loop already running, creating background task...\")\n",
    "    asyncio.create_task(start_server())  \n",
    "else:\n",
    "    loop.run_until_complete(start_server())"
   ]
  }
 ],
 "metadata": {
  "kernelspec": {
   "display_name": "Python 3",
   "language": "python",
   "name": "python3"
  },
  "language_info": {
   "codemirror_mode": {
    "name": "ipython",
    "version": 3
   },
   "file_extension": ".py",
   "mimetype": "text/x-python",
   "name": "python",
   "nbconvert_exporter": "python",
   "pygments_lexer": "ipython3",
   "version": "3.12.9"
  }
 },
 "nbformat": 4,
 "nbformat_minor": 2
}
